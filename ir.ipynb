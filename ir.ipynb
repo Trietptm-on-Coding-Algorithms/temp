{
 "metadata": {
  "kernelspec": {
   "display_name": "Python 2",
   "language": "python2",
   "name": "python2"
  },
  "language_info": {
   "codemirror_mode": {
    "name": "ipython",
    "version": 2
   },
   "file_extension": ".py",
   "mimetype": "text/x-python",
   "name": "python",
   "nbconvert_exporter": "python",
   "pygments_lexer": "ipython2",
   "version": "2.7.13"
  },
  "name": "",
  "signature": "sha256:b00e14ec93b4f7e48cee42db75c3f2266a09f6cf064aa33540c0cdd93e6b06ea"
 },
 "nbformat": 3,
 "nbformat_minor": 0,
 "worksheets": [
  {
   "cells": [
    {
     "cell_type": "heading",
     "level": 1,
     "metadata": {},
     "source": [
      "Repr\u00e9sentation interm\u00e9diaire"
     ]
    },
    {
     "cell_type": "markdown",
     "metadata": {},
     "source": [
      "Miasm utilise une [repr\u00e9sentation interm\u00e9diaire](https://en.wikipedia.org/wiki/Intermediate_representation) (*intermediate representation*, *IR*) pour abstraire les effets de bords d'un programme (comme LLVM par exemple). Les avantages \u00e9tant :\n",
      "* une repr\u00e9sentation unique, quelque soit l'architecture de d\u00e9part\n",
      "* un *vocabulaire* minimaliste\n",
      "* tous les effets de bords sont explicites (un *A + B* ne va pas mettre \u00e0 jour des flags)\n",
      "\n",
      "L'IR de Miasm est impl\u00e9ment\u00e9e dans `miasm2.expression.expression`, sous forme d'`Expr*`. Une taille, en bits, leur est associ\u00e9e."
     ]
    },
    {
     "cell_type": "heading",
     "level": 2,
     "metadata": {},
     "source": [
      "Vocabulaire"
     ]
    },
    {
     "cell_type": "markdown",
     "metadata": {},
     "source": [
      "Les mots les plus simples du vocabulaire sont :\n",
      "* `ExprId` : repr\u00e9sente un identifiant. Par exemple, le registre `EAX` sera repr\u00e9sent\u00e9 par un `ExprId` de 32 bits.\n",
      "* `ExprInt` : repr\u00e9sente un entier non sign\u00e9."
     ]
    },
    {
     "cell_type": "code",
     "collapsed": false,
     "input": [
      "from miasm2.expression.expression import *\n",
      "\n",
      "a = ExprId(\"a\", 32)\n",
      "print a\n",
      "\n",
      "# Acc\u00e8s \u00e0 l'identifiant\n",
      "print a.name"
     ],
     "language": "python",
     "metadata": {},
     "outputs": [
      {
       "output_type": "stream",
       "stream": "stdout",
       "text": [
        "a\n",
        "a\n"
       ]
      }
     ],
     "prompt_number": 1
    },
    {
     "cell_type": "code",
     "collapsed": false,
     "input": [
      "cst1 = ExprInt(16, 32)\n",
      "print cst1\n",
      "cst2 = ExprInt(-1, 32)\n",
      "print cst2\n",
      "\n",
      "# Acc\u00e8s \u00e0 la valeur associ\u00e9e\n",
      "print int(cst1)"
     ],
     "language": "python",
     "metadata": {},
     "outputs": [
      {
       "output_type": "stream",
       "stream": "stdout",
       "text": [
        "0x10\n",
        "0xFFFFFFFF\n",
        "16\n"
       ]
      }
     ],
     "prompt_number": 2
    },
    {
     "cell_type": "markdown",
     "metadata": {},
     "source": [
      "Ensuite, le mot `ExprMem` permet de repr\u00e9senter un acc\u00e8s m\u00e9moire, d'une taille d\u00e9finie en bit."
     ]
    },
    {
     "cell_type": "code",
     "collapsed": false,
     "input": [
      "# Acc\u00e8s m\u00e9moire de 16 bits, \u00e0 l'addresse 0x11223344 sur 32 bits\n",
      "addr = ExprInt(0x11223344, 32)\n",
      "mem1 = ExprMem(addr, 16)\n",
      "print mem1\n",
      "\n",
      "# Acc\u00e8s \u00e0 l'addresse\n",
      "print mem1.arg"
     ],
     "language": "python",
     "metadata": {},
     "outputs": [
      {
       "output_type": "stream",
       "stream": "stdout",
       "text": [
        "@16[0x11223344]\n",
        "0x11223344\n"
       ]
      }
     ],
     "prompt_number": 3
    },
    {
     "cell_type": "markdown",
     "metadata": {},
     "source": [
      "Le mot `ExprOp` permet de d\u00e9finir des op\u00e9rations n-aires entre expressions. L'op\u00e9ration est une cha\u00eene de caract\u00e8re, on peut donc en d\u00e9finir des nouvelles au besoin. Certaines op\u00e9rations (`+`, `*`, `|`, `parity`, ...) sont d\u00e9j\u00e0 utilis\u00e9es par Miasm. Une op\u00e9ration est toujours faite entre \u00e9l\u00e9ments de m\u00eame taille, et a la taille de ses arguments."
     ]
    },
    {
     "cell_type": "code",
     "collapsed": false,
     "input": [
      "# D\u00e9finition d'une op\u00e9ration\n",
      "op1 = ExprOp(\"+\", a, cst1)\n",
      "print op1\n",
      "\n",
      "# Acc\u00e8s aux arguments\n",
      "print op1.args\n",
      "\n",
      "# D\u00e9finition d'une op\u00e9ration custom\n",
      "op2 = ExprOp(\"MyCustomOp\", a)\n",
      "print op2"
     ],
     "language": "python",
     "metadata": {},
     "outputs": [
      {
       "output_type": "stream",
       "stream": "stdout",
       "text": [
        "(a+0x10)\n",
        "(ExprId('a', 32), ExprInt(0x10, 32))\n",
        "(MyCustomOp a)\n"
       ]
      }
     ],
     "prompt_number": 4
    },
    {
     "cell_type": "markdown",
     "metadata": {},
     "source": [
      "Des helpers sont pr\u00e9sents pour faciliter la cr\u00e9ation de certaines op\u00e9rations courantes"
     ]
    },
    {
     "cell_type": "code",
     "collapsed": false,
     "input": [
      "print a + cst1\n",
      "print a * cst1\n",
      "print - a\n",
      "print a | cst1\n",
      "print a & cst1"
     ],
     "language": "python",
     "metadata": {},
     "outputs": [
      {
       "output_type": "stream",
       "stream": "stdout",
       "text": [
        "(a+0x10)\n",
        "(a*0x10)\n",
        "(- a)\n",
        "(a|0x10)\n",
        "(a&0x10)\n"
       ]
      }
     ],
     "prompt_number": 5
    },
    {
     "cell_type": "markdown",
     "metadata": {},
     "source": [
      "Attention, m\u00eame si les Expressions permettent de \"tout\" repr\u00e9senter, Miasm fait quelques hypoth\u00e8ses sur la repr\u00e9sentation de certaines op\u00e9rations :\n",
      "* les op\u00e9ration associative (`+`, `^`, `|`, ...) sont des op\u00e9rations n-aire\n",
      "* le `-` est toujours unaire"
     ]
    },
    {
     "cell_type": "code",
     "collapsed": false,
     "input": [
      "print a - cst1"
     ],
     "language": "python",
     "metadata": {},
     "outputs": [
      {
       "output_type": "stream",
       "stream": "stdout",
       "text": [
        "(a+(- 0x10))\n"
       ]
      }
     ],
     "prompt_number": 6
    },
    {
     "cell_type": "markdown",
     "metadata": {},
     "source": [
      "* `parity` est toujours de taille 1, c'est une des rares exceptions"
     ]
    },
    {
     "cell_type": "code",
     "collapsed": false,
     "input": [
      "p = ExprOp(\"parity\", a)\n",
      "print a.size\n",
      "print p.size"
     ],
     "language": "python",
     "metadata": {},
     "outputs": [
      {
       "output_type": "stream",
       "stream": "stdout",
       "text": [
        "32\n",
        "1\n"
       ]
      }
     ],
     "prompt_number": 7
    },
    {
     "cell_type": "markdown",
     "metadata": {},
     "source": [
      "L'op\u00e9ration `=` est g\u00e9r\u00e9e \u00e0 part, par un mot d\u00e9di\u00e9e `ExprAff`."
     ]
    },
    {
     "cell_type": "code",
     "collapsed": false,
     "input": [
      "assign = ExprAff(a, cst1)\n",
      "print assign\n",
      "\n",
      "# Source, destination\n",
      "print assign.src\n",
      "print assign.dst"
     ],
     "language": "python",
     "metadata": {},
     "outputs": [
      {
       "output_type": "stream",
       "stream": "stdout",
       "text": [
        "a = 0x10\n",
        "0x10\n",
        "a\n"
       ]
      }
     ],
     "prompt_number": 8
    },
    {
     "cell_type": "markdown",
     "metadata": {},
     "source": [
      "Le mot `ExprCond` permet de repr\u00e9senter une condition ternaire, \u00e9quivalent au Python `src1 if cond else src2`"
     ]
    },
    {
     "cell_type": "code",
     "collapsed": false,
     "input": [
      "cond = ExprCond(a, cst1, cst2)\n",
      "print cond\n",
      "\n",
      "# Acc\u00e8s aux \u00e9l\u00e9ments\n",
      "print cond.cond\n",
      "print cond.src1\n",
      "print cond.src2"
     ],
     "language": "python",
     "metadata": {},
     "outputs": [
      {
       "output_type": "stream",
       "stream": "stdout",
       "text": [
        "(a?(0x10,0xFFFFFFFF))\n",
        "a\n",
        "0x10\n",
        "0xFFFFFFFF\n"
       ]
      }
     ],
     "prompt_number": 9
    },
    {
     "cell_type": "markdown",
     "metadata": {},
     "source": [
      "La manipulation des tailles est faite gr\u00e2ce aux mots :\n",
      "* `ExprSlice`: extraction d'un tranche de bits d'une expression\n",
      "* `ExprCompose`: composition d'expression (comme un sandwich)"
     ]
    },
    {
     "cell_type": "code",
     "collapsed": false,
     "input": [
      "sl = ExprSlice(a, 6, 8)\n",
      "print sl\n",
      "print sl.size\n",
      "\n",
      "# Acc\u00e8s aux \u00e9l\u00e9ments\n",
      "print sl.arg\n",
      "print sl.start\n",
      "print sl.stop\n",
      "\n",
      "# Forme plus simple\n",
      "sl == a[6:8]"
     ],
     "language": "python",
     "metadata": {},
     "outputs": [
      {
       "output_type": "stream",
       "stream": "stdout",
       "text": [
        "a[6:8]\n",
        "2\n",
        "a\n",
        "6\n",
        "8\n"
       ]
      },
      {
       "metadata": {},
       "output_type": "pyout",
       "prompt_number": 10,
       "text": [
        "True"
       ]
      }
     ],
     "prompt_number": 10
    },
    {
     "cell_type": "code",
     "collapsed": false,
     "input": [
      "# Repr\u00e9sente la concat\u00e9nation de a (bit 0 \u00e0 31) avec cst1 (bit 32 \u00e0 63)\n",
      "comp = ExprCompose(a, cst1)\n",
      "print comp\n",
      "print comp.size\n",
      "\n",
      "# Acc\u00e8s aux \u00e9l\u00e9ments\n",
      "print comp.args\n",
      "# Acc\u00e8s au bit de d\u00e9part, et \u00e0 l'argument associ\u00e9\n",
      "print list(comp.iter_args())"
     ],
     "language": "python",
     "metadata": {},
     "outputs": [
      {
       "output_type": "stream",
       "stream": "stdout",
       "text": [
        "{a 0 32, 0x10 32 64}\n",
        "64\n",
        "(ExprId('a', 32), ExprInt(0x10, 32))\n",
        "[(0, ExprId('a', 32)), (32, ExprInt(0x10, 32))]\n"
       ]
      }
     ],
     "prompt_number": 11
    },
    {
     "cell_type": "markdown",
     "metadata": {},
     "source": [
      "En r\u00e9sum\u00e9, les diff\u00e9rents mots sont :\n",
      "\n",
      "| Mot | Ecriture |\n",
      "|-----|----------|\n",
      "|ExprAff|A=B|\n",
      "|ExprInt|0x18|\n",
      "|ExprId|EAX|\n",
      "|ExprCond|A ? B : C|\n",
      "|ExprMem|@16[ESI]|\n",
      "|ExprOp|A + B|\n",
      "|ExprSlice|AH = EAX[8 :16]|\n",
      "|ExprCompose|AX = AH.AL|"
     ]
    },
    {
     "cell_type": "heading",
     "level": 2,
     "metadata": {},
     "source": [
      "Helpers communs"
     ]
    },
    {
     "cell_type": "code",
     "collapsed": false,
     "input": [
      "# Masque de la bonne taille\n",
      "a.mask"
     ],
     "language": "python",
     "metadata": {},
     "outputs": [
      {
       "metadata": {},
       "output_type": "pyout",
       "prompt_number": 12,
       "text": [
        "ExprInt(0xFFFFFFFF, 32)"
       ]
      }
     ],
     "prompt_number": 12
    },
    {
     "cell_type": "code",
     "collapsed": false,
     "input": [
      "# Taille de l'expression\n",
      "a.size"
     ],
     "language": "python",
     "metadata": {},
     "outputs": [
      {
       "metadata": {},
       "output_type": "pyout",
       "prompt_number": 13,
       "text": [
        "32"
       ]
      }
     ],
     "prompt_number": 13
    },
    {
     "cell_type": "code",
     "collapsed": false,
     "input": [
      "# Version affichable\n",
      "print a, cst1"
     ],
     "language": "python",
     "metadata": {},
     "outputs": [
      {
       "output_type": "stream",
       "stream": "stdout",
       "text": [
        "a 0x10\n"
       ]
      }
     ],
     "prompt_number": 14
    },
    {
     "cell_type": "code",
     "collapsed": false,
     "input": [
      "# Repr\u00e9sentation (pour pouvoir re-copier dans le code)\n",
      "print repr(a), repr(a + cst1)"
     ],
     "language": "python",
     "metadata": {},
     "outputs": [
      {
       "output_type": "stream",
       "stream": "stdout",
       "text": [
        "ExprId('a', 32) ExprOp('+', ExprId('a', 32), ExprInt(0x10, 32))\n"
       ]
      }
     ],
     "prompt_number": 15
    },
    {
     "cell_type": "code",
     "collapsed": false,
     "input": [
      "# Extension de taille (non sign\u00e9, sign\u00e9)\n",
      "print cst1.zeroExtend(64)\n",
      "print cst1.signExtend(64)"
     ],
     "language": "python",
     "metadata": {},
     "outputs": [
      {
       "output_type": "stream",
       "stream": "stdout",
       "text": [
        "{0x10 0 32, 0x0 32 64}\n",
        "{0x10 0 32, (0x10[31:32]?(0xFFFFFFFF,0x0)) 32 64}\n"
       ]
      }
     ],
     "prompt_number": 16
    },
    {
     "cell_type": "code",
     "collapsed": false,
     "input": [
      "# Most significant bit\n",
      "print a.msb()"
     ],
     "language": "python",
     "metadata": {},
     "outputs": [
      {
       "output_type": "stream",
       "stream": "stdout",
       "text": [
        "a[31:32]\n"
       ]
      }
     ],
     "prompt_number": 17
    },
    {
     "cell_type": "code",
     "collapsed": false,
     "input": [
      "# Remplacement\n",
      "expr1 = a + a + cst1\n",
      "print expr1\n",
      "expr2 = expr1.replace_expr({a: cst2})\n",
      "print expr2"
     ],
     "language": "python",
     "metadata": {},
     "outputs": [
      {
       "output_type": "stream",
       "stream": "stdout",
       "text": [
        "((a+a)+0x10)\n",
        "((0xFFFFFFFF+0xFFFFFFFF)+0x10)\n"
       ]
      }
     ],
     "prompt_number": 18
    },
    {
     "cell_type": "code",
     "collapsed": false,
     "input": [
      "# Test de type\n",
      "print a.is_id()\n",
      "print a.is_int()\n",
      "print cst1.is_int()\n",
      "print op1.is_op()\n",
      "print op1.is_op(\"+\")\n",
      "print op1.is_op(\"&\")"
     ],
     "language": "python",
     "metadata": {},
     "outputs": [
      {
       "output_type": "stream",
       "stream": "stdout",
       "text": [
        "True\n",
        "False\n",
        "True\n",
        "True\n",
        "True\n",
        "False\n"
       ]
      }
     ],
     "prompt_number": 19
    },
    {
     "cell_type": "heading",
     "level": 2,
     "metadata": {},
     "source": [
      "Expression sous forme de graphe"
     ]
    },
    {
     "cell_type": "markdown",
     "metadata": {},
     "source": [
      "Les expressions Miasm ont une structure r\u00e9cursive, et peuvent \u00eatre repr\u00e9sent\u00e9e et manipul\u00e9es sous la forme de graphe.\n",
      "L'objet obtenu est un `DiGraph`, impl\u00e9ment\u00e9 dans `miasm2.core.graph` et offrant les m\u00e9thodes standards de manipulation de graphes (acc\u00e8s au noeuds, arr\u00eates, pr\u00e9d\u00e9cesseurs, succ\u00e9sseurs, dominance, post-dominance, repr\u00e9sentation en DOT, ...)."
     ]
    },
    {
     "cell_type": "code",
     "collapsed": false,
     "input": [
      "expr3 = a + cst1 & cst2\n",
      "print expr3\n",
      "graph = expr3.graph()\n",
      "print graph"
     ],
     "language": "python",
     "metadata": {},
     "outputs": [
      {
       "output_type": "stream",
       "stream": "stdout",
       "text": [
        "((a+0x10)&0xFFFFFFFF)\n",
        "0x10\n",
        "(a+0x10)\n",
        "0xFFFFFFFF\n",
        "a\n",
        "((a+0x10)&0xFFFFFFFF)\n",
        "(a+0x10) -> a\n",
        "(a+0x10) -> 0x10\n",
        "((a+0x10)&0xFFFFFFFF) -> (a+0x10)\n",
        "((a+0x10)&0xFFFFFFFF) -> 0xFFFFFFFF\n"
       ]
      }
     ],
     "prompt_number": 20
    },
    {
     "cell_type": "code",
     "collapsed": false,
     "input": [
      "dot = graph.dot()\n",
      "from graphviz import Source\n",
      "src = Source(dot)\n",
      "src"
     ],
     "language": "python",
     "metadata": {},
     "outputs": [
      {
       "metadata": {},
       "output_type": "pyout",
       "prompt_number": 21,
       "svg": [
        "<?xml version=\"1.0\" encoding=\"UTF-8\" standalone=\"no\"?>\n",
        "<!DOCTYPE svg PUBLIC \"-//W3C//DTD SVG 1.1//EN\"\n",
        " \"http://www.w3.org/Graphics/SVG/1.1/DTD/svg11.dtd\">\n",
        "<!-- Generated by graphviz version 2.38.0 (20140413.2041)\n",
        " -->\n",
        "<!-- Title: asm_graph Pages: 1 -->\n",
        "<svg width=\"249pt\" height=\"191pt\"\n",
        " viewBox=\"0.00 0.00 248.50 191.00\" xmlns=\"http://www.w3.org/2000/svg\" xmlns:xlink=\"http://www.w3.org/1999/xlink\">\n",
        "<g id=\"graph0\" class=\"graph\" transform=\"scale(1 1) rotate(0) translate(4 187)\">\n",
        "<title>asm_graph</title>\n",
        "<polygon fill=\"white\" stroke=\"none\" points=\"-4,4 -4,-187 244.5,-187 244.5,4 -4,4\"/>\n",
        "<!-- 2528525675489518808 -->\n",
        "<g id=\"node1\" class=\"node\"><title>2528525675489518808</title>\n",
        "<path fill=\"none\" stroke=\"black\" d=\"M12,-0.5C12,-0.5 48,-0.5 48,-0.5 54,-0.5 60,-6.5 60,-12.5 60,-12.5 60,-24.5 60,-24.5 60,-30.5 54,-36.5 48,-36.5 48,-36.5 12,-36.5 12,-36.5 6,-36.5 0,-30.5 0,-24.5 0,-24.5 0,-12.5 0,-12.5 0,-6.5 6,-0.5 12,-0.5\"/>\n",
        "<text text-anchor=\"start\" x=\"13\" y=\"-14.3\" font-family=\"Courier New\" font-size=\"14.00\">0x10</text>\n",
        "</g>\n",
        "<!-- 11594699461940576881 -->\n",
        "<g id=\"node2\" class=\"node\"><title>11594699461940576881</title>\n",
        "<path fill=\"none\" stroke=\"black\" d=\"M32.5,-73.5C32.5,-73.5 101.5,-73.5 101.5,-73.5 107.5,-73.5 113.5,-79.5 113.5,-85.5 113.5,-85.5 113.5,-97.5 113.5,-97.5 113.5,-103.5 107.5,-109.5 101.5,-109.5 101.5,-109.5 32.5,-109.5 32.5,-109.5 26.5,-109.5 20.5,-103.5 20.5,-97.5 20.5,-97.5 20.5,-85.5 20.5,-85.5 20.5,-79.5 26.5,-73.5 32.5,-73.5\"/>\n",
        "<text text-anchor=\"start\" x=\"34\" y=\"-87.3\" font-family=\"Courier New\" font-size=\"14.00\">(a+0x10)</text>\n",
        "</g>\n",
        "<!-- 11594699461940576881&#45;&gt;2528525675489518808 -->\n",
        "<g id=\"edge2\" class=\"edge\"><title>11594699461940576881&#45;&gt;2528525675489518808</title>\n",
        "<path fill=\"none\" stroke=\"black\" d=\"M58.0433,-73.3129C53.6803,-64.9407 48.3422,-54.6971 43.4985,-45.4026\"/>\n",
        "<polygon fill=\"black\" stroke=\"black\" points=\"46.5995,-43.7794 38.8742,-36.5288 40.3918,-47.0144 46.5995,-43.7794\"/>\n",
        "</g>\n",
        "<!-- 11913676708980208381 -->\n",
        "<g id=\"node4\" class=\"node\"><title>11913676708980208381</title>\n",
        "<path fill=\"none\" stroke=\"black\" d=\"M90,-0.5C90,-0.5 120,-0.5 120,-0.5 126,-0.5 132,-6.5 132,-12.5 132,-12.5 132,-24.5 132,-24.5 132,-30.5 126,-36.5 120,-36.5 120,-36.5 90,-36.5 90,-36.5 84,-36.5 78,-30.5 78,-24.5 78,-24.5 78,-12.5 78,-12.5 78,-6.5 84,-0.5 90,-0.5\"/>\n",
        "<text text-anchor=\"start\" x=\"101\" y=\"-14.3\" font-family=\"Courier New\" font-size=\"14.00\">a</text>\n",
        "</g>\n",
        "<!-- 11594699461940576881&#45;&gt;11913676708980208381 -->\n",
        "<g id=\"edge1\" class=\"edge\"><title>11594699461940576881&#45;&gt;11913676708980208381</title>\n",
        "<path fill=\"none\" stroke=\"black\" d=\"M76.1987,-73.3129C80.6797,-64.9407 86.1621,-54.6971 91.1366,-45.4026\"/>\n",
        "<polygon fill=\"black\" stroke=\"black\" points=\"94.253,-46.9971 95.886,-36.5288 88.0813,-43.6939 94.253,-46.9971\"/>\n",
        "</g>\n",
        "<!-- 7773804816832915623 -->\n",
        "<g id=\"node3\" class=\"node\"><title>7773804816832915623</title>\n",
        "<path fill=\"none\" stroke=\"black\" d=\"M143.5,-73.5C143.5,-73.5 228.5,-73.5 228.5,-73.5 234.5,-73.5 240.5,-79.5 240.5,-85.5 240.5,-85.5 240.5,-97.5 240.5,-97.5 240.5,-103.5 234.5,-109.5 228.5,-109.5 228.5,-109.5 143.5,-109.5 143.5,-109.5 137.5,-109.5 131.5,-103.5 131.5,-97.5 131.5,-97.5 131.5,-85.5 131.5,-85.5 131.5,-79.5 137.5,-73.5 143.5,-73.5\"/>\n",
        "<text text-anchor=\"start\" x=\"145\" y=\"-87.3\" font-family=\"Courier New\" font-size=\"14.00\">0xFFFFFFFF</text>\n",
        "</g>\n",
        "<!-- 18371114393472087199 -->\n",
        "<g id=\"node5\" class=\"node\"><title>18371114393472087199</title>\n",
        "<path fill=\"none\" stroke=\"black\" d=\"M38,-146.5C38,-146.5 214,-146.5 214,-146.5 220,-146.5 226,-152.5 226,-158.5 226,-158.5 226,-170.5 226,-170.5 226,-176.5 220,-182.5 214,-182.5 214,-182.5 38,-182.5 38,-182.5 32,-182.5 26,-176.5 26,-170.5 26,-170.5 26,-158.5 26,-158.5 26,-152.5 32,-146.5 38,-146.5\"/>\n",
        "<text text-anchor=\"start\" x=\"39\" y=\"-160.3\" font-family=\"Courier New\" font-size=\"14.00\">((a+0x10)&amp;0xFFFFFFFF)</text>\n",
        "</g>\n",
        "<!-- 18371114393472087199&#45;&gt;11594699461940576881 -->\n",
        "<g id=\"edge3\" class=\"edge\"><title>18371114393472087199&#45;&gt;11594699461940576881</title>\n",
        "<path fill=\"none\" stroke=\"black\" d=\"M111.718,-146.313C104.471,-137.592 95.5363,-126.84 87.5635,-117.246\"/>\n",
        "<polygon fill=\"black\" stroke=\"black\" points=\"90.2338,-114.983 81.1507,-109.529 84.8501,-119.457 90.2338,-114.983\"/>\n",
        "</g>\n",
        "<!-- 18371114393472087199&#45;&gt;7773804816832915623 -->\n",
        "<g id=\"edge4\" class=\"edge\"><title>18371114393472087199&#45;&gt;7773804816832915623</title>\n",
        "<path fill=\"none\" stroke=\"black\" d=\"M140.524,-146.313C147.894,-137.592 156.98,-126.84 165.088,-117.246\"/>\n",
        "<polygon fill=\"black\" stroke=\"black\" points=\"167.828,-119.426 171.609,-109.529 162.482,-114.908 167.828,-119.426\"/>\n",
        "</g>\n",
        "</g>\n",
        "</svg>\n"
       ],
       "text": [
        "<graphviz.files.Source at 0x7f358731e110>"
       ]
      }
     ],
     "prompt_number": 21
    },
    {
     "cell_type": "heading",
     "level": 2,
     "metadata": {},
     "source": [
      "Simplification d'expression"
     ]
    },
    {
     "cell_type": "markdown",
     "metadata": {},
     "source": [
      "La simplification d'expression dans Miasm permet d'appliquer des r\u00e8gles de transformation \u00e0 une expression, tant qu'il reste des r\u00e8gles appliquables.\n",
      "Ce m\u00e9canisme est fait via un `ExpressionSimplifier`, impl\u00e9ment\u00e9 dans `miasm2.expression.simplifications`.\n",
      "\n",
      "Quelques r\u00e8gles de transformations basiques sont d\u00e9j\u00e0 pr\u00e9sentes, et activ\u00e9es dans l'instance `expr_simp` du m\u00eame module."
     ]
    },
    {
     "cell_type": "code",
     "collapsed": false,
     "input": [
      "from miasm2.expression.simplifications import expr_simp\n",
      "\n",
      "# 0x10 + (-1) = 0xF\n",
      "op3 = cst1 + cst2\n",
      "print op3\n",
      "cst3 = expr_simp(op3)\n",
      "print cst3\n",
      "\n",
      "# 5\u00e8me bit de 0x10 = 1\n",
      "sl2 = cst1[4:5]\n",
      "print sl2\n",
      "cst4 = expr_simp(sl2)\n",
      "print cst4\n",
      "\n",
      "# a + a - a = a\n",
      "op4 = a + a - a\n",
      "print op4\n",
      "print expr_simp(op4)\n",
      "assert expr_simp(op4) == a\n",
      "\n",
      "# Utilisation pour \u00e9valuer une expression (ici, a + 0x10 \u00e9valu\u00e9 avec a = 0x10)\n",
      "print op1\n",
      "print op1.replace_expr({a: cst1})\n",
      "print expr_simp(op1.replace_expr({a: cst1}))"
     ],
     "language": "python",
     "metadata": {},
     "outputs": [
      {
       "output_type": "stream",
       "stream": "stdout",
       "text": [
        "(0x10+0xFFFFFFFF)\n",
        "0xF\n",
        "0x10[4:5]\n",
        "0x1\n",
        "((a+a)+(- a))\n",
        "a\n",
        "(a+0x10)\n",
        "(0x10+0x10)\n",
        "0x20\n"
       ]
      }
     ],
     "prompt_number": 22
    },
    {
     "cell_type": "markdown",
     "metadata": {},
     "source": [
      "Des r\u00e8gles de transformations peuvent \u00eatre ajout\u00e9es, via `enable_passes`. Elles sont donn\u00e9es sous la forme de fonction associ\u00e9es \u00e0 un type d'expression.\n",
      "\n",
      "Ci-dessous, on cherche \u00e0 ajouter des passes permettant de transformer les expressions bool\u00e9ennes des conditions en op\u00e9ration du type `<`.\n",
      "L'expression arithm\u00e9tico-bool\u00e9enne correspondante est:"
     ]
    },
    {
     "cell_type": "code",
     "collapsed": false,
     "input": [
      "x = ExprId(\"x\", 32)\n",
      "y = ExprId(\"y\", 32)\n",
      "\n",
      "inf_signed = ((x - y) ^ ((x ^ y) & ((x - y) ^ x)))[31:32]\n",
      "print inf_signed\n",
      "\n",
      "def is_inf(x_val, y_val):\n",
      "    new_val = expr_simp(inf_signed.replace_expr({\n",
      "        x: x_val,\n",
      "        y: y_val,\n",
      "    }))\n",
      "    assert new_val.is_int()\n",
      "    return int(new_val) == 1\n",
      "\n",
      "# 0 < 10\n",
      "print is_inf(ExprInt(0, 32), ExprInt(10, 32))\n",
      "# 10 !< 10\n",
      "print is_inf(ExprInt(10, 32), ExprInt(10, 32))\n",
      "# -1 < 0\n",
      "print is_inf(ExprInt(0xFFFFFFFF, 32), ExprInt(0, 32))"
     ],
     "language": "python",
     "metadata": {},
     "outputs": [
      {
       "output_type": "stream",
       "stream": "stdout",
       "text": [
        "((x+(- y))^((x^y)&((x+(- y))^x)))[31:32]\n",
        "True\n",
        "False\n",
        "True\n"
       ]
      }
     ],
     "prompt_number": 23
    },
    {
     "cell_type": "markdown",
     "metadata": {},
     "source": [
      "On ajoute les r\u00e8gles de transformations correspondantes (d\u00e9j\u00e0 impl\u00e9ment\u00e9e dans le framework, mais non activ\u00e9es par d\u00e9faut) :"
     ]
    },
    {
     "cell_type": "code",
     "collapsed": false,
     "input": [
      "from pprint import pprint as pp\n",
      "from miasm2.expression.simplifications import ExpressionSimplifier\n",
      "pp(ExpressionSimplifier.PASS_COND)\n",
      "\n",
      "print expr_simp(inf_signed)\n",
      "expr_simp_cond = ExpressionSimplifier()\n",
      "expr_simp_cond.enable_passes(ExpressionSimplifier.PASS_COND)\n",
      "print expr_simp_cond(inf_signed)"
     ],
     "language": "python",
     "metadata": {},
     "outputs": [
      {
       "output_type": "stream",
       "stream": "stdout",
       "text": [
        "{<class 'miasm2.expression.expression.ExprCond'>: [<function expr_simp_equal at 0x7f358738e758>],\n",
        " <class 'miasm2.expression.expression.ExprSlice'>: [<function expr_simp_inf_signed at 0x7f358738e5f0>,\n",
        "                                                    <function expr_simp_inf_unsigned_inversed at 0x7f358738e668>],\n",
        " <class 'miasm2.expression.expression.ExprOp'>: [<function exec_inf_unsigned at 0x7f358738e7d0>,\n",
        "                                                 <function exec_inf_signed at 0x7f358738e8c0>,\n",
        "                                                 <function expr_simp_inverse at 0x7f358738e6e0>,\n",
        "                                                 <function exec_equal at 0x7f358738e938>]}\n",
        "(((x^y)&(x^(x+(- y))))^(x+(- y)))[31:32]\n",
        "(x <s y)\n"
       ]
      }
     ],
     "prompt_number": 24
    },
    {
     "cell_type": "heading",
     "level": 3,
     "metadata": {},
     "source": [
      "Exercice 1 : ajout d'une r\u00e8gle de transformation"
     ]
    },
    {
     "cell_type": "markdown",
     "metadata": {},
     "source": [
      "Le but est maintenant d'ajouter notre propre r\u00e8gle de simplification, qui est la suivante (informellement) :\n",
      "\n",
      "*Lors d'une addition n-aire entre termes \u00e9gaux, on transforme cette addition en une multiplication du terme par *n.\n",
      "\n",
      "Autrement dit, `a + a + a + a` devient `a * 4`."
     ]
    },
    {
     "cell_type": "markdown",
     "metadata": {},
     "source": [
      "Une r\u00e8gle de transformation se pr\u00e9sente sous la forme d'une fonction, qui prend en param\u00e8tre :\n",
      "* l'instance actuelle de l'`ExpressionSimplifier` utilis\u00e9 (pour lancer des simplifications r\u00e9cursivement si besoin)\n",
      "* l'expression \u00e0 simplifier\n",
      "\n",
      "La fonction doit **toujours retourner une expression**. Si elle ne fait aucun changement, elle retournera donc directement son deuxi\u00e8me argument.\n",
      "\n",
      "Une r\u00e8gle de transformation doit retourner une *nouvelle* expression. En effet, les expressions de Miasm sont immutables, il faut donc recr\u00e9er une nouvelle expression pour pouvoir appliquer une modification."
     ]
    },
    {
     "cell_type": "code",
     "collapsed": false,
     "input": [
      "# Vecteurs de tests\n",
      "tests = [\n",
      "    # (entr\u00e9e, sortie attendue)\n",
      "    (a, a),\n",
      "    (a + a, a * ExprInt(2, a.size)),\n",
      "    (ExprOp(\"+\", a, a, a, a), a * ExprInt(4, a.size)),\n",
      "    (a + cst1, a + cst1),\n",
      "    (a & cst1, a & cst1),\n",
      "    (a[2:5] + a[2:5], a[2:5] * ExprInt(2, 3)),\n",
      "]\n",
      "\n",
      "# V\u00e9rification\n",
      "def check(tests, custom_expr_simp):\n",
      "    for inp, out in tests:\n",
      "        print inp\n",
      "        got = custom_expr_simp(inp)\n",
      "        print got\n",
      "        assert out == got\n",
      "\n",
      "# TODO: D\u00e9finition de la fonction\n",
      "\n",
      "# TODO: Cr\u00e9ation d'un ExpressionSimplifier\n",
      "\n",
      "# TODO: Ajout de la r\u00e8gle de transformation\n",
      "\n",
      "# Lancement des tests\n",
      "check(tests, TODO)"
     ],
     "language": "python",
     "metadata": {},
     "outputs": [
      {
       "ename": "NameError",
       "evalue": "name 'TODO' is not defined",
       "output_type": "pyerr",
       "traceback": [
        "\u001b[0;31m---------------------------------------------------------------------------\u001b[0m\n\u001b[0;31mNameError\u001b[0m                                 Traceback (most recent call last)",
        "\u001b[0;32m<ipython-input-25-fb03170924b5>\u001b[0m in \u001b[0;36m<module>\u001b[0;34m()\u001b[0m\n\u001b[1;32m     25\u001b[0m \u001b[0;34m\u001b[0m\u001b[0m\n\u001b[1;32m     26\u001b[0m \u001b[0;31m# Lancement des tests\u001b[0m\u001b[0;34m\u001b[0m\u001b[0;34m\u001b[0m\u001b[0m\n\u001b[0;32m---> 27\u001b[0;31m \u001b[0mcheck\u001b[0m\u001b[0;34m(\u001b[0m\u001b[0mtests\u001b[0m\u001b[0;34m,\u001b[0m \u001b[0mTODO\u001b[0m\u001b[0;34m)\u001b[0m\u001b[0;34m\u001b[0m\u001b[0m\n\u001b[0m",
        "\u001b[0;31mNameError\u001b[0m: name 'TODO' is not defined"
       ]
      }
     ],
     "prompt_number": 25
    },
    {
     "cell_type": "code",
     "collapsed": false,
     "input": [
      "# Ajout d'un test un peu plus \u00e9volu\u00e9\n",
      "\n",
      "tests += [\n",
      "    ((a + a) * ExprInt(5, a.size), a * ExprInt(10, a.size)),\n",
      "]\n",
      "\n",
      "# TODO: Activation des passes de propagation de constante\n",
      "\n",
      "# Lancement des tests\n",
      "check(tests, TODO)"
     ],
     "language": "python",
     "metadata": {},
     "outputs": [
      {
       "ename": "NameError",
       "evalue": "name 'TODO' is not defined",
       "output_type": "pyerr",
       "traceback": [
        "\u001b[0;31m---------------------------------------------------------------------------\u001b[0m\n\u001b[0;31mNameError\u001b[0m                                 Traceback (most recent call last)",
        "\u001b[0;32m<ipython-input-26-1bc855070f5f>\u001b[0m in \u001b[0;36m<module>\u001b[0;34m()\u001b[0m\n\u001b[1;32m      8\u001b[0m \u001b[0;34m\u001b[0m\u001b[0m\n\u001b[1;32m      9\u001b[0m \u001b[0;31m# Lancement des tests\u001b[0m\u001b[0;34m\u001b[0m\u001b[0;34m\u001b[0m\u001b[0m\n\u001b[0;32m---> 10\u001b[0;31m \u001b[0mcheck\u001b[0m\u001b[0;34m(\u001b[0m\u001b[0mtests\u001b[0m\u001b[0;34m,\u001b[0m \u001b[0mTODO\u001b[0m\u001b[0;34m)\u001b[0m\u001b[0;34m\u001b[0m\u001b[0m\n\u001b[0m",
        "\u001b[0;31mNameError\u001b[0m: name 'TODO' is not defined"
       ]
      }
     ],
     "prompt_number": 26
    },
    {
     "cell_type": "markdown",
     "metadata": {},
     "source": [
      "Attention, dans certains cas, les passes de simplifications peuvent interagir.\n",
      "Par exemple : "
     ]
    },
    {
     "cell_type": "code",
     "collapsed": false,
     "input": [
      "tests += [\n",
      "    (a + a + a + a, a * ExprInt(4, a.size)),\n",
      "]\n",
      "\n",
      "check(tests, TODO)"
     ],
     "language": "python",
     "metadata": {},
     "outputs": [
      {
       "ename": "NameError",
       "evalue": "name 'TODO' is not defined",
       "output_type": "pyerr",
       "traceback": [
        "\u001b[0;31m---------------------------------------------------------------------------\u001b[0m\n\u001b[0;31mNameError\u001b[0m                                 Traceback (most recent call last)",
        "\u001b[0;32m<ipython-input-27-186dd9393baa>\u001b[0m in \u001b[0;36m<module>\u001b[0;34m()\u001b[0m\n\u001b[1;32m      3\u001b[0m ]\n\u001b[1;32m      4\u001b[0m \u001b[0;34m\u001b[0m\u001b[0m\n\u001b[0;32m----> 5\u001b[0;31m \u001b[0mcheck\u001b[0m\u001b[0;34m(\u001b[0m\u001b[0mtests\u001b[0m\u001b[0;34m,\u001b[0m \u001b[0mTODO\u001b[0m\u001b[0;34m)\u001b[0m\u001b[0;34m\u001b[0m\u001b[0m\n\u001b[0m",
        "\u001b[0;31mNameError\u001b[0m: name 'TODO' is not defined"
       ]
      }
     ],
     "prompt_number": 27
    },
    {
     "cell_type": "markdown",
     "metadata": {},
     "source": [
      "Dans l'\u00e9tat actuel, le r\u00e9sultat obtenu devrait \u00eatre :\n",
      "`(a + a + (a * 2)`.\n",
      "\n",
      "En effet, dans l'ordre de simplification :\n",
      "1. `a + a + a + a = (a + (a + (a + a)))`, par construction\n",
      "1. `(a + (a + (a * 2)))`, par simplification ajout\u00e9e ci-dessus\n",
      "1. `(a + a + (a * 2))`, par la passe commune de transformation du `+` binaire en n-aire\n",
      "\n",
      "\u00c0 ce moment l\u00e0, plus aucune r\u00e8gle ne matche, l'expression est donc finalement retourn\u00e9e.\n",
      "\n",
      "Pour obtenir le r\u00e9sultat souhait\u00e9, ajouter la fonction de simplification suivante :\n",
      "\n",
      "`X + .... + (X * int)`  est transform\u00e9 en `.... + (X * (int + 1))`"
     ]
    },
    {
     "cell_type": "code",
     "collapsed": false,
     "input": [
      "# TODO: nouvelle fonction de simplification\n",
      "\n",
      "# TODO: enregistrement de la simplification\n",
      "\n",
      "check(tests, TODO)"
     ],
     "language": "python",
     "metadata": {},
     "outputs": [
      {
       "ename": "NameError",
       "evalue": "name 'TODO' is not defined",
       "output_type": "pyerr",
       "traceback": [
        "\u001b[0;31m---------------------------------------------------------------------------\u001b[0m\n\u001b[0;31mNameError\u001b[0m                                 Traceback (most recent call last)",
        "\u001b[0;32m<ipython-input-28-3d5c52f43a76>\u001b[0m in \u001b[0;36m<module>\u001b[0;34m()\u001b[0m\n\u001b[1;32m      3\u001b[0m \u001b[0;31m# TODO: enregistrement de la simplification\u001b[0m\u001b[0;34m\u001b[0m\u001b[0;34m\u001b[0m\u001b[0m\n\u001b[1;32m      4\u001b[0m \u001b[0;34m\u001b[0m\u001b[0m\n\u001b[0;32m----> 5\u001b[0;31m \u001b[0mcheck\u001b[0m\u001b[0;34m(\u001b[0m\u001b[0mtests\u001b[0m\u001b[0;34m,\u001b[0m \u001b[0mTODO\u001b[0m\u001b[0;34m)\u001b[0m\u001b[0;34m\u001b[0m\u001b[0m\n\u001b[0m",
        "\u001b[0;31mNameError\u001b[0m: name 'TODO' is not defined"
       ]
      }
     ],
     "prompt_number": 28
    },
    {
     "cell_type": "heading",
     "level": 2,
     "metadata": {},
     "source": [
      "Matching d'expression"
     ]
    },
    {
     "cell_type": "markdown",
     "metadata": {},
     "source": [
      "Pour faciliter l'\u00e9criture de r\u00e8gle de transformation, Miasm embarque un mini moteur \"d'expression r\u00e9guli\u00e8re\" sur les expressions, appel\u00e9 `MatchExpr`.\n",
      "\n",
      "Ses arguments sont :\n",
      "* L'expression que l'on veut analyser\n",
      "* Une expression d\u00e9crivant ce que l'on veut matcher (le *pattern*)\n",
      "* La liste des *jokers*, c'est \u00e0 dire les expressions qui peuvent \u00eatre remplac\u00e9es dans le *pattern*\n",
      "\n",
      "Par exemple, si l'on veut matcher l'expression `X + (X * Y) + EAX`, o\u00f9 `X` et `Y` sont des *placeholders*, on va utiliser :\n",
      "\n",
      "`MatchExpr(expr_to_match, X + (X * Y) + EAX, [X, Y])`.\n",
      "\n",
      "Le r\u00e9sultat est un dictionnaire associant chaque joker avec la sous-expression correspondante.\n",
      "Il est capable de faire varier l'ordre des expressions lorsque l'op\u00e9rateur est commutatif."
     ]
    },
    {
     "cell_type": "heading",
     "level": 3,
     "metadata": {},
     "source": [
      "Exercice 2 : Matching d'expression"
     ]
    },
    {
     "cell_type": "markdown",
     "metadata": {},
     "source": [
      "Impl\u00e9mentez la r\u00e8gle de simplification suivante, \u00e0 l'aide d'un MatchExpr :\n",
      "`((x & y) + (x | y))` -> `(x + y)`"
     ]
    },
    {
     "cell_type": "code",
     "collapsed": false,
     "input": [
      "from miasm2.expression.expression import MatchExpr\n",
      "\n",
      "# Vecteur de tests\n",
      "tests = [\n",
      "    (((x & y) + (x | y)), (x + y)),\n",
      "    (((x & y) + (x & y)), ((x & y) + (x & y))),\n",
      "    (((cst1 >> a) | (a ^ cst1)) + (((a ^ cst1) & (cst1 >> a))), (cst1 >> a) + (a ^ cst1)),\n",
      "]\n",
      "\n",
      "# TODO: r\u00e8gle de transformation\n",
      "\n",
      "# TODO: cr\u00e9ation d'un ExpressionSimplifier\n",
      "\n",
      "check(tests, TODO)"
     ],
     "language": "python",
     "metadata": {},
     "outputs": [
      {
       "ename": "NameError",
       "evalue": "name 'TODO' is not defined",
       "output_type": "pyerr",
       "traceback": [
        "\u001b[0;31m---------------------------------------------------------------------------\u001b[0m\n\u001b[0;31mNameError\u001b[0m                                 Traceback (most recent call last)",
        "\u001b[0;32m<ipython-input-29-be1e28a1549b>\u001b[0m in \u001b[0;36m<module>\u001b[0;34m()\u001b[0m\n\u001b[1;32m     12\u001b[0m \u001b[0;31m# TODO: cr\u00e9ation d'un ExpressionSimplifier\u001b[0m\u001b[0;34m\u001b[0m\u001b[0;34m\u001b[0m\u001b[0m\n\u001b[1;32m     13\u001b[0m \u001b[0;34m\u001b[0m\u001b[0m\n\u001b[0;32m---> 14\u001b[0;31m \u001b[0mcheck\u001b[0m\u001b[0;34m(\u001b[0m\u001b[0mtests\u001b[0m\u001b[0;34m,\u001b[0m \u001b[0mTODO\u001b[0m\u001b[0;34m)\u001b[0m\u001b[0;34m\u001b[0m\u001b[0m\n\u001b[0m",
        "\u001b[0;31mNameError\u001b[0m: name 'TODO' is not defined"
       ]
      }
     ],
     "prompt_number": 29
    },
    {
     "cell_type": "heading",
     "level": 2,
     "metadata": {},
     "source": [
      "Pour aller plus loin..."
     ]
    },
    {
     "cell_type": "markdown",
     "metadata": {},
     "source": [
      "Quelques fonctionnalit\u00e9s relative aux expressions mais non d\u00e9taill\u00e9es ici (se r\u00e9f\u00e9rer aux exemples) :\n",
      "* `SymbolicExecutionEngine` : \u00e9mulation symbolique\n",
      "* `Translators` : traduction des expressions vers du C, Python, \"Miasm like\", z3\n",
      "* `expr_range` : Analyse du range de valeurs possibles d'une expression\n",
      "* `AssignBlock`, `IRBlock`, `DiGraphDefUse`, `dead_simp`, ... : accumulation d'expression pour la description d'effet de bord d'un programme, et traitements associ\u00e9s\n",
      "* `miasm2.arch.*.sem.py`, `SemBuilder` : description des s\u00e9mantique des architectures, c'est \u00e0 dire des effets de bords associ\u00e9s \u00e0 un mn\u00e9monique"
     ]
    }
   ],
   "metadata": {}
  }
 ]
}